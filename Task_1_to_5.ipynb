{
 "cells": [
  {
   "cell_type": "code",
   "execution_count": 1,
   "id": "95dde16a-1ec9-4202-978a-7d09a26be52a",
   "metadata": {},
   "outputs": [
    {
     "name": "stdout",
     "output_type": "stream",
     "text": [
      "not leap year\n"
     ]
    }
   ],
   "source": [
    "#leap year task-1\n",
    "a=1900 \n",
    "if a%400==0 or (a%4==0 and a%100!=0):\n",
    "    print(\"leap year\") \n",
    "else:\n",
    "    print(\"not leap year\")"
   ]
  },
  {
   "cell_type": "code",
   "execution_count": 6,
   "id": "05195407-7e8a-4242-8c93-86b1aca1a553",
   "metadata": {},
   "outputs": [
    {
     "name": "stdout",
     "output_type": "stream",
     "text": [
      "[0, 1, 2, 3]\n",
      "[0, 1, 2, 3]\n",
      "[0, 1, 2, 3]\n",
      "[0, 1, 2, 3]\n"
     ]
    }
   ],
   "source": [
    "#4x4 matrix day 2 task\n",
    "a=4\n",
    "c=[]\n",
    "for i in range(a):\n",
    "    b=[]\n",
    "    for j in range(a):\n",
    "        b.append(j)\n",
    "    c.append(b)\n",
    "for i in c:\n",
    "    print(i)"
   ]
  },
  {
   "cell_type": "code",
   "execution_count": 9,
   "id": "5b6bdd98-ea18-4536-8940-fb41c22a82fb",
   "metadata": {},
   "outputs": [
    {
     "name": "stdout",
     "output_type": "stream",
     "text": [
      "ucp1rm9*fh\n"
     ]
    }
   ],
   "source": [
    "#day 3 task\n",
    "import random\n",
    "a=\"qwertyuiopsdfghjklzxcvbnm2134567890!@#$%^&*\"\n",
    "b=\"\"\n",
    "for i in range(10):\n",
    "    b+=random.choice(a)\n",
    "print(b)\n",
    " "
   ]
  },
  {
   "cell_type": "code",
   "execution_count": 12,
   "id": "dcf49025-3171-4077-b556-a4def48b8a82",
   "metadata": {},
   "outputs": [
    {
     "name": "stdin",
     "output_type": "stream",
     "text": [
      " madhu \n",
      " 13\n"
     ]
    },
    {
     "name": "stdout",
     "output_type": "stream",
     "text": [
      "Good afternoon, madhu \n"
     ]
    }
   ],
   "source": [
    "#day 4 task\n",
    " \n",
    "name,hour=input(),int(input())\n",
    "def time_greetings(name,hour):\n",
    "    if hour>=0 and hour<=23:\n",
    "        if hour<12:\n",
    "            print(f\"Good morning, {name}\")\n",
    "        elif hour>=12 and hour<18:\n",
    "            print(f\"Good afternoon, {name}\")\n",
    "        else:\n",
    "            print(f\"Good evening, {name}\")\n",
    "    else:\n",
    "        print(\"enter a correct input\")\n",
    "time_greetings(name,hour)\n",
    " \n",
    " "
   ]
  },
  {
   "cell_type": "code",
   "execution_count": null,
   "id": "4b6795ff-ae5a-4c3b-b17f-f1b01beb4164",
   "metadata": {},
   "outputs": [],
   "source": [
    "day 5 task\n",
    "a=10000\n",
    "def cal(tax,discount):\n",
    "    b=a/100\n",
    "    tax*=b\n",
    "    tax+=a\n",
    "    discount=tax/discount\n",
    "    print(\"your tax is 18%\",tax)\n",
    "    print(\"your discount is 10%\",discount)\n",
    "    print(\"your total price is\",tax-discount)\n",
    "cal(18,10)\n",
    " "
   ]
  }
 ],
 "metadata": {
  "kernelspec": {
   "display_name": "Python 3 (ipykernel)",
   "language": "python",
   "name": "python3"
  },
  "language_info": {
   "codemirror_mode": {
    "name": "ipython",
    "version": 3
   },
   "file_extension": ".py",
   "mimetype": "text/x-python",
   "name": "python",
   "nbconvert_exporter": "python",
   "pygments_lexer": "ipython3",
   "version": "3.13.5"
  }
 },
 "nbformat": 4,
 "nbformat_minor": 5
}
